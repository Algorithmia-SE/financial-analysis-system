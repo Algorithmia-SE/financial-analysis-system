{
 "cells": [
  {
   "cell_type": "code",
   "execution_count": 1,
   "metadata": {},
   "outputs": [],
   "source": [
    "from typing import Annotated\n",
    "from typing_extensions import TypedDict\n",
    "from langgraph.graph import StateGraph, START, END\n",
    "from langgraph.graph.message import add_messages\n",
    "from langchain_groq import ChatGroq\n",
    "from langgraph.checkpoint.memory import MemorySaver\n",
    "from dotenv import load_dotenv"
   ]
  },
  {
   "cell_type": "code",
   "execution_count": 2,
   "metadata": {},
   "outputs": [],
   "source": [
    "load_dotenv()\n",
    "\n",
    "memory = MemorySaver()\n",
    "\n",
    "class State(TypedDict):\n",
    "    messages: Annotated[list, add_messages]\n",
    "\n",
    "graph_builder = StateGraph(State)\n",
    "\n",
    "llm = ChatGroq(\n",
    "    model=\"llama3-8b-8192\",\n",
    "    temperature=0,\n",
    "    max_tokens=None,\n",
    "    timeout=None,\n",
    "    max_retries=2,\n",
    ")\n"
   ]
  },
  {
   "cell_type": "code",
   "execution_count": 4,
   "metadata": {},
   "outputs": [],
   "source": [
    "def chatbot(state: State):\n",
    "    return {\"messages\": [llm.invoke(state[\"messages\"])]}\n",
    "\n",
    "graph_builder.add_node(\"chatbot\", chatbot)\n",
    "\n",
    "graph_builder.add_edge(START, \"chatbot\")\n",
    "graph_builder.add_edge(\"chatbot\", END)\n",
    "\n",
    "graph = graph_builder.compile(checkpointer=memory)\n",
    "\n"
   ]
  },
  {
   "cell_type": "code",
   "execution_count": 5,
   "metadata": {},
   "outputs": [
    {
     "name": "stdout",
     "output_type": "stream",
     "text": [
      "Output type: <class 'bytes'>\n",
      "Output value: b'\\x89PNG\\r\\n\\x1a\\n\\x00\\x00\\x00\\rIHDR\\x00\\x00\\x00j\\x00\\x00\\x00\\xea\\x08\\x02\\x00\\x00\\x00\\xc5\\xf3G\\x18\\x00\\x00\\x00\\x01sRGB\\x00\\xae\\xce\\x1c\\xe9\\x00\\x00\\x16\\xdeIDATx\\x9c\\xed\\x9di`\\x14E\\xda\\xc7k\\xba\\xe7>3\\x99\\x90c&\\t\\x99\\\\\\x04\\x92\\x001`\\xb2q\\x97p\\x04QN\\x159\\xc4\\x97\\x95\\x85w\\x05Y\\x0e\\x05\\x17aQ\\x16\\xaf\\xd5\\x85E@\\r\\x88 \\x04a\\x05E1\\x08\\x08$\"\\xd9\\xe5\\\\\\x08\\xd1\\x84@ LNrg\\x8ed\\xee\\xa3\\x8f\\xf7C\\xfb\\x86\\xac\\xce\\x99\\x9e!=\\xb1\\x7f\\x9f&S\\xd5=O\\xff\\xd3]U\\xfd\\xd4S\\xf50p\\x1c\\x074}\\x05\\xeao\\x03\\x82\\x1bZ>R\\xd0\\xf2\\x91\\x82\\x96\\x8f\\x14\\xb4|\\xa4\\xa0\\xe5#\\x05\\x93\\xe4\\xf1\\x06\\xad\\xa3[\\xe30\\x1bP\\xb3\\x1eE\\x1c8\\x86\\x05\\xc10\\x88\\xcd\\x858<\\x88/\\x82\\x05\\x12f\\x98\\x9cC\\xe6T\\x8c\\xbe\\x8d\\xfb4\\xad\\xb6\\x9a\\nS\\xdd\\r\\x13\\x9b\\xcf\\x008\\x83/\\x82\\xf9b\\x98\\'`bh\\x10\\xc8\\x07\\xc1\\xa0\\xab\\xd3a6\\xa0\\\\>\\xd4RkU\\xa6\\t\\x12\\xd2\\x05\\xd1\\xc9\\xfc>\\x9c\\xcag\\xf9\\x8c]\\xc8\\xa5\\xe3j\\x1c\\x80\\x900\\x962]\\x10\\x1e\\xcd\\xed\\xc3\\xafR\\x07\\x83\\xceQWi\\xeah\\xb2u\\xb5;~3M\\xa6H\\xe0\\xf9t\\xb8o\\xf2]+\\xd2V^\\xea\\xce\\x99\\x166$S\\xe4\\xbb\\xa9\\x94\\xa6\\xb5\\xder\\xf9\\xb8F\\x1a\\xc1\\x1e7;\\xdc\\xfb\\xa3|\\x90\\xef\\xd8\\xce\\xe6\\xc4\\x0caj\\xb6\\xa4\\xaf\\x16\\x06\\x01\\xf7\\xee\\x9aO\\xedm{fM\\x8cH\\xca\\xf2\\xea\\x00\\xdc;\\xf6\\xbcZ\\xdbp\\xdb\\xe4e\\xe5\\xa0\\xc6jF\\xf6m\\xac\\xb3\\x18\\x11o*{%\\xdf\\x9eWk\\xd5-V\\xd2\\x86\\x05\\x13\\x05o\\xd4i\\xdbl\\x1e\\xaby\\x96\\xafpG\\xd3\\xaf\\xe4\\xbe\\xeb\\r\\x82`\\xf9\\xab\\xeez\\xac\\xe6\\xa1\\xed+-\\xd6\\xf2\\x84p\\xeao\\x06r{\\xe7\\nu\\x8b\\xf5\\xfa\\xd9\\xaeI\\xf3#\\xdd\\xd4q\\xf7\\xd6a\\xecBn\\\\\\xec\\xfeuj\\x07\\x00\\x08\\x93s\\x19\\x00\\xdc\\xb9npS\\xc7\\x9d|\\x97\\x8e\\xabs\\xa6\\x85\\x05\\xc0\\xb0\\xa0!gZ\\xd8\\xa5\\xe3j7\\x15\\\\\\xca\\xa7i\\xb5\\xe1\\x00\\x0c\\xbc\\xf1\\x9dO\\x08C\\x98i9\\x92[\\xff\\xe9vU\\xc1\\xa5|5\\x15\\xa6\\x900\\xef\\xc6>\\x03\\x9a(%\\xf7N\\xa9\\xd1U\\xa9K\\xf9\\xean\\x98\\x94\\xe9\\x82\\x80Y\\xe5\\x9c\\xbc\\xbc\\xbc\\x96\\x96\\x16_\\x8f\\xaa\\xa9\\xa9\\x99:uj`,\\x02\\xd1I\\xfc\\x8e{V\\xbb\\x15sZ\\xea\\\\>\\xbd\\xd6\\xc1\\xe1C\\x0f\\xf8}\\xb6\\xad\\xad\\xad\\xab\\xab\\xab\\x0f\\x07VUU\\x05\\xc0\\x9c\\xfb\\x0c\\xcb\\x16\\xd7\\xdf29-r\\xee\\xb0\\xd2k\\x1c\\x81\\x9b\\x80C\\x10\\xe4\\xc3\\x0f?,..\\xd6j\\xb5R\\xa94//o\\xf9\\xf2\\xe5\\xe5\\xe5\\xe5K\\x96,\\x01\\x00L\\x9f>=77w\\xcb\\x96-Z\\xadv\\xdb\\xb6mW\\xaf^\\xd5\\xeb\\xf5\\x11\\x11\\x11s\\xe6\\xcc\\x99;w.q\\x86\\xbc\\xbc\\xbc\\x85\\x0b\\x17^\\xb9r\\xe5\\xda\\xb5k\\xf3\\xe6\\xcd\\xdb\\xbf\\x7f?\\x00`\\xd4\\xa8Q\\xabV\\xad\\x9a7o\\x9e\\xdf\\r\\xe6\\xf2am\\x9b\\xddy\\x99\\xd3\\xd1\\xe0\\x9d\\xeb\\xfa\\xd3\\xfb[\\x030\\x1a\\xc5q\\x1c\\xdf\\xbd{w^^\\xde\\xe5\\xcb\\x97\\xef\\xdd\\xbbw\\xfe\\xfc\\xf9I\\x93&}\\xf0\\xc1\\x07\\x0e\\x87\\xa3\\xa8\\xa8(33\\xb3\\xaa\\xaa\\xcah4\\xe28\\xber\\xe5\\xca\\x193f\\\\\\xbf~\\xbd\\xbe\\xbe\\xbe\\xb0\\xb0p\\xf4\\xe8\\xd1\\xe7\\xce\\x9d#\\xce0i\\xd2\\xa4\\x993gn\\xdf\\xbe\\xbd\\xbc\\xbc\\xdc`0l\\xde\\xbcy\\xf2\\xe4\\xc9:\\x9d\\xcej\\r\\xc8\\xabQ\\xe5\\xe5\\xae\\xb3\\x87\\xda\\x9d\\x169\\xbf\\xfb\\xccz\\x94/\\x86\\xfd\\xfeo$P\\xa9T\\x89\\x89\\x89\\xd9\\xd9\\xd9\\x00\\x80\\xe8\\xe8\\xe8\\x8f>\\xfa\\x88\\xc1`0\\x99L\\x81@\\x00\\x00\\x10\\x8b\\xc5\\xc4\\x87\\xd5\\xabWC\\x10\\xa4P(\\x00\\x00\\x83\\x07\\x0f>r\\xe4\\xc8\\x95+W\\xc6\\x8e\\x1d\\x0b\\x00`0\\x18\\\\.w\\xc5\\x8a\\x15\\xc4\\t9\\x1c\\x0e\\x83\\xc1\\x08\\t\\t\\t\\x90\\xc1\\x021\\xd3\\xa4\\xf7\\xe5\\xe1\\x05\\x00\\xb0\\xd8\\x81\\xf2\\xe3\\x8f\\x193f\\xc3\\x86\\r\\xeb\\xd6\\xad\\x9b0a\\xc2\\xc3\\x0f?\\x1c\\x17\\x17\\xe7\\xb4\\x1a\\x8f\\xc7+(((--\\xed\\xea\\xea\\xc20L\\xaf\\xd7\\xc7\\xc4\\xc4\\xf4\\x94\\x0e\\x1f><@\\xe6\\xfd\\x12\\x98\\xc9\\x80\\x99\\x0c\\xa7E\\xce\\xe5\\xe3\\n\\xa0\\xcef[\\x80\\xac\\x99<y\\xb2@ 8r\\xe4\\xc8\\x86\\r\\x1bP\\x14\\xcd\\xcd\\xcd]\\xbbvmhhh\\xef:\\x08\\x82,[\\xb6\\x0cE\\xd1\\x97_~9..\\x0e\\x86\\xe1\\xd5\\xabW\\xf7\\xae \\x14\\n\\x03d\\xde/1v!l\\xae\\xf3\\x9b\\xc9\\xb9||\\x11\\xd3l@\\x02gPnnnnn\\xae\\xc5b\\xb9p\\xe1\\xc2\\x96-[\\xde|\\xf3\\xcd\\xad[\\xb7\\xf6\\xaePYY\\xa9R\\xa9v\\xef\\xde\\x9d\\x91\\x91A|\\xa3\\xd3\\xe9\\xe4ry\\xe0Lr\\x83\\x9b\\xa6\\xcc\\xb9\\xa8B)\\xcc\\xe1\\x05\\xea\\xe1-))!\\x06w<\\x1eo\\xe2\\xc4\\x89O<\\xf1\\x84J\\xa5\\xea)%\\\\\\x186\\x9b\\r\\x00 \\x91\\xfc\\xf4\\xba]QQ\\xd1\\xd2\\xd2\\xd2_\\xe18(\\x82I\\xc3\\xd9N\\x8b\\x9ck\\x14\\x1a\\xc1\\xe9l\\xb2wu\\xba\\xe8\\xad\\xc9q\\xe8\\xd0\\xa1u\\xeb\\xd6\\x95\\x95\\x95577\\x97\\x96\\x96~\\xf7\\xddw\\x99\\x99\\x99D\\xa7\\x01\\x00\\xb8p\\xe1Bmmmrr2\\x9b\\xcd>|\\xf8\\xb0Z\\xad\\xber\\xe5\\xca\\xa6M\\x9b\\xb2\\xb3\\xb3\\x1b\\x1a\\x1a\\xb4Z\\xed/O(\\x12\\x89\\xd4j\\xf5\\x0f?\\xfc\\xd0\\xda\\xda\\x1a\\x08\\x83o^\\xd1\\xc7\\xb8\\x9aHr\\xd5[\\x9f/\\xec,\\xfb^\\x1b\\x88q\\x80F\\xa3Y\\xbf~\\xfd\\x84\\t\\x13\\xb2\\xb2\\xb2\\xa6L\\x99\\xf2\\xce;\\xef\\x18\\x0c\\x06\\x1c\\xc7\\x11\\x04Y\\xbe|yVV\\xd6\\xe2\\xc5\\x8bq\\x1c?}\\xfa\\xf4\\xd4\\xa9Ssrr\\x16-Zt\\xf7\\xee\\xdd\\x8b\\x17/\\x8e\\x193f\\xd6\\xacY8\\x8e?\\xf6\\xd8c\\xf9\\xf9\\xf9=\\'lmm\\x9d9sfVV\\xd6\\xce\\x9d;\\xfdnm{\\xa3\\xe5\\xf0?\\x1a]\\x95\\xba\\xf4\\xf7\\xb5\\xd4Z\\xaa\\xfe\\xa3\\x9f\\xf0LD \\xfe\\x9fA\\xc4\\x8f%:\\xc0`\\x8c\\xccu>*r\\xd9\\xc0\\xc9\\xe3y\\x06\\x1dr\\xaf\\xda\\x1cH\\xdb\\xa8\\x0e\\x86\\xe1\\x17\\xbf\\xd1\\xb8\\xd2\\xce\\xc3L[\\xc7=\\xeb\\xb9/:\\xe7\\xac\\x8eq^\\xda\\xd11{\\xf6l\\xa7EB\\xa1\\xd0ht\\xee\\xa5P*\\x95\\xfb\\xf6\\xed\\xf3\\xc2\\xf2\\xbePPPPPP\\xe0\\xb4\\x88\\xc1py\\xa5K\\x97.uu!\\x17\\x8e\\xa9\\x05b8c\\x9c\\xd4\\xd5/zp\\xd6\\xff\\xfb\\xeb\\xce\\xd8d~\\\\\\xaa\\x13\\xd7\\x0b\\x86a&\\x93\\xf3\\xb1\\xb8\\xc3\\xe1`\\xb1\\x9c;\\xbb \\x08\"^*\\x02\\x81\\xcdf\\xb3\\xdb\\x9dwwV\\xab\\x95\\xcbu\\xee\\x01\\xe1p8l\\xb6\\x93\\x8e\\xd5bB\\x8b\\x0f\\xb6M_\\xacp\\xf7\\x93\\x1e\\xdb\\xce\\x827\\xea\\xba\\xd5v\\x7f\\xb7\\xc8A\\xc0\\xbe\\x8duz\\xad\\x87\\x0b\\xf7,\\x9f\\xcd\\x8a~\\xb4F\\xe5?\\xab\\x82\\x83\\xa3\\x1f\\xde\\xab\\xad4z\\xac\\xe6\\xd5<\\xaf\\xdd\\x86\\xeeZ\\xa72v;\\xfcaX\\x10p4\\xbf\\xa9\\xa3\\xc9+\\xe7\\x8d\\xb7Q\\x06f\\x03\\xf2\\xc9k\\xb5Mw\\x07\\xf8\\x84\\xaf\\xb1\\xcb\\xb1\\xf7\\xaf\\xb5\\xf5\\xb7<\\xdfw\\x04\\xbe\\x85\\x08\\x9d\\xfb\\xbcC\\xafs<2-,LA*,\\x8e\\x82\\xd8\\xad\\xd8\\xa5\\x13j\\xbd\\x06\\x19?\\'\\\\\\x18\\xe2m\\xd8\\xa3\\xcf\\x01j\\x8d\\xb7\\xcd\\x17\\x8f\\xabcS\\xf8\\x111\\\\e\\x9a\\xc0\\x95\\'\\'\\x88h\\xbakn\\xad\\xb3\\x96}\\xaf\\xcb\\x99\\x1a\\x96\\xfe[\\xdf&\\xb5\\xfb\\x18\\x1eYSa\\xac.3\\xd4U\\x9a\\x86d\\x8aX\\x1cH f\\n$0\\x97\\x0f\\x07Cp)\\x00\\x18\\xae\\xd7\"&=\\x02\\x18\\xa0\\xf2bwx\\x0c7q\\xa4 \\xfd\\x91\\xbex[\\xfb(_\\x0f\\x8d\\xb7\\xcd\\xba\\x0e\\xbbI\\x8f\\x98\\xbaQ\\x0c\\xc3\\x11\\xbb?\\xf5\\xd3h4\\x06\\x83\\xc1\\x95?\\xb5\\xcf\\xf0E0\\x93\\xcd\\x10\\x88\\x99\\xe2Pfl\\x8a\\xc0\\x95/\\xcf\\x1b\\xc8\\xca\\x17PN\\x9c8QZZ\\xbaq\\xe3\\xc6\\xfe6\\xc4%td=)h\\xf9HAi\\xf9\\xd8l\\xf6\\xcf\\xe6@\\xa8\\x06\\xa5\\xe5\\xb3\\xdb\\xedN\\xdd\\xcb\\xd4\\x81\\xd2\\xf2A\\x10\\xc4\\xe1Pz|Ni\\xf90\\x0c#\\xe6\\x8c(\\x0b\\xa5\\xe5\\xeb\\t=\\xa0,\\x94\\x96\\x0fA\\x10W\\x1eY\\x8a@i\\xf98\\x1cNX\\x18\\xa5\\xa3\\x83)-\\x9f\\xcdfS\\xab\\xdd\\x85\\x16\\xf7;\\x94\\x96\\x8f\\xfaPZ>\\x18\\x86y<\\xdf\\x968>`(-\\x1f\\x8a\\xa2\\x16\\x8b\\xa5\\xbf\\xadp\\x07\\xa5\\xe5\\xa3\\xef>R\\xd0w\\xdf\\x00\\x87\\xd2\\xf2\\xb1X\\xac\\xc0E,\\xfb\\x05J\\xcb\\xe7p8\\xfa\\xb6\\xd2\\xe3\\x81Ai\\xf9\\xa8\\x0f\\xa5\\xe5c\\xb3\\xd92\\x99\\xac\\xbf\\xadp\\x07\\xa5\\xe5\\xb3\\xdb\\xed\\x1a\\x8d\\xa6\\xbf\\xadp\\x07\\xa5\\xe5\\xa3>\\x94\\x96\\x8f\\xf6\\xb8\\x90\\x82\\xf6\\xb8\\x0cp(-\\x1f=QI\\nz\\xa2r\\x80Ci\\xf9\\xe8y^R\\xd0\\xf3\\xbc\\xa4\\xa0=.\\xa4\\xa0=.\\x03\\x1cJ\\xcbG\\x07i\\x90\\x82\\x0e\\xd2 \\x05\\xed\\xef#\\x05\\xed\\xef#\\x05\\xed\\xb0\"\\x05\\xed\\xb0\"\\x05\\x93\\xc9\\x14\\x89(\\xbd\\xff\"\\x15\\x97\\xc5\\xcc\\x9c9\\xd3\\xe1p\\xe08n6\\x9b\\x11\\x04\\x91H$\\xc4\\xe7\\xb3g\\xcf\\xf6\\xb7i?\\x87l\\xc6\\x84@\\x90\\x96\\x96v\\xe2\\xc4\\t\\x06\\xe3\\xa7\\xc5\\x86&\\x93\\t\\xc3\\xb0\\x94\\x94\\x94\\xfe\\xb6\\xcb\\tT|x\\x17,X\\x10\\x19\\xf9_\\xdb\\xfd\\xf2x\\xbc@l\\xccG\\x1e*\\xca\\xa7T*G\\x8f\\x1e\\xdd\\xbbUQ(\\x14\\x81\\xdb^\\x93\\x0cT\\x94\\x0f\\x00\\xf0\\xdcs\\xcf\\x85\\x87\\xff\\x94\\xb9\\x80\\xcdf\\xcf\\x9f?\\xbf\\xbf-r\\x0eE\\xe5S*\\x95\\xd9\\xd9\\xd9\\xc4\\r\\x18\\x1d\\x1d=m\\xda\\xb4\\xfe\\xb6\\xc89\\x14\\x95\\x0f\\x000\\x7f\\xfe\\xfc\\x88\\x88\\x086\\x9b\\xfd\\xec\\xb3\\xcf\\xf6\\xb7-.\\xf1\\xad\\xe7\\xb5[1u\\xb3\\xcdjq\\xbe\\x0b\\xaf\\xbf\\x89x$\\xe3\\xa9\\xda\\xda\\xda\\xf4\\x84\\xbc\\xda\\xca\\x07\\xe18`\\xb1\\x18\\xa1Ql\\x81\\xd8\\x07M|\\x18\\xf7\\x15\\x1fl\\xab\\xbda\\x8aT\\xf2\\x19A\\xbf}\\x81s\\xf8bfC\\x951\"\\x86\\x93\\xfb\\xf4 /\\xd3\\x9dx%\\x1f\\x8a\\xe2_\\xe77\\'f\\x88\\x13\\x86\\x8b\\xfda\\'\\xa5\\xe9\\xea\\xb4\\x97|\\xd1\\xfa\\xe4R\\x857\\xfbix%\\xdf\\xd7\\xf9\\xcdC\\xb3C\\x14\\x89\\x94\\xf6\\\\\\xfa\\x11\\x0c\\xc3\\x0f\\xbeY\\xf3\\xa7\\xf7\\x12=\\xd6\\xf4\\xdcu\\xd4\\xdd4\\tCX\\xbf\\x1e\\xed\\x00\\x00\\x10\\xc4\\xc8\\x9e:\\xe8?\\xa7<\\xfb\\xca<\\xcb\\xa7n\\xb6\\xb1y\\x81\\xda\\xc3\\x99\\xb2\\x88BY-\\xb5V\\x8f\\xd5<\\xcbg5\\xa3!a\\xce7>\\x1d\\xc0\\x88B\\xd9\\xde\\xa4\\xec\\xf3,\\x9f\\xc3\\x86#\\xc1\\x90\\xfb\\xcf\\xcf\\xe0\\xc0\\xd8\\xe5y\\xebe\\xea\\x0e\\x9b\\x83\\x02Z>R\\xd0\\xf2\\x91\\x82\\x96\\x8f\\x14\\xb4|\\xa4\\xa0\\xe5#\\x05-\\x1f)h\\xf9HA\\xcbG\\nZ>R\\xd0\\xf2\\x91\\xe2\\x81\\xca7k\\xce\\xe3\\x9f\\xec\\xddA\\xe6\\x0c\\x7f\\xdd\\xb8f\\xf5\\xcb/\\xf8\\xcf\"\\xb2\\x04\\xc1\\xdd\\xb7\\xf1\\xf5WN\\x9f9N\\xe6\\x0c_\\x17~\\xf1\\xee\\xa6\\x80l\\x80\\x1a\\x04\\xf2UW\\x93\\xcd\\xa1H\\xfe\\x0c\\xae\\x08H\\x8c\\x8b\\xc3\\xe1(\\xd8\\xbf\\xab\\xa8\\xf8\\xa4\\xd1hHL\\x1c\\xb2\\xf8\\x8f+\\xd2\\xd2F\\x10E\\x10\\x04\\xed\\xfft\\xf7\\xb1o\\x8e\\x18\\x8d\\x86\\x8c\\x8c\\xd1k\\xd7l\\x94JC\\x01\\x00\\xb7\\xef\\xdc\\xda\\xb3\\xe7\\xc3\\xbb\\xaa;v\\xbb-np\\xfc\\xa2E\\x7f\\x1a\\x95\\x99\\x05\\x00\\x187a\\x14\\x00\\xe0\\xef\\x9b^\\xcf\\xdf\\xb1\\xe5\\xf8\\xb1\\x12\"\\xf3\\xc6\\xb7\\xa7\\x8e\\x1d8\\xb0G\\xa3U\\xc7+\\x13W\\xadZ\\x9f\\x9c\\x94B\\xc4R~\\xb2w\\xc7\\xb9\\x92\"\\x9dN+\\x93\\x85\\xe5Mx|\\xc1s\\x8b\\x99L\\xe6\\x8b\\xab\\x9e///\\x03\\x00\\x94\\x95]\\xfd\\xe2\\xf0\\xb7\\xfe\\xbd\\xd2\\x80\\xdc};?\\xdaz\\xf2\\xdb\\xc2\\xa5/\\xac\\xda\\xb6u\\xb7B\\x11\\xb3f\\xed\\xb2\\x96\\xd6f\\xa2\\xe8\\\\Iqw\\xb7\\xee\\x9d\\xbfm\\x7fu\\xfd\\xdb\\xb7nU\\x14\\xec\\xdfE\\xc4\\xf1\\xbd\\xb2v9\\x8b\\xcd\\xfe\\xc7\\xe6\\x1d;\\xf3?\\x1d\\x96:\\xfc\\xb5\\r\\xab;;;\\x00\\x00\\xc4\\x05/_\\xf6\\xe7\\x83\\x07\\x8e\\x11ghh\\xac;{\\xf6\\xf4\\xba\\xb5ol\\xfe{\\xbe\\xdda\\x7f\\xf5\\xb5U\\x0e\\x87\\x03\\x00\\xb0m\\xfb\\xbb\\xa7N\\x7f\\xb3d\\xf1\\x8b\\x05\\xfb\\xbe\\\\\\xb4\\xf0O_\\x17~\\xbe\\xeb\\xe3\\xf7\\x01\\x00o\\xbd\\xf1^rR\\xca\\xf8q\\x8f\\xee\\xfe\\xf8\\x90\\xdf\\xaf\\xd4\\xffw\\x9f\\xc9d:\\xf9m\\xe1\\xe2\\xe7W\\x8e\\x1b;\\x11\\x00\\xb0\\xfa\\xa5\\xf5\\x16\\xb3\\xb9\\xb9\\xf9\\x9e<J\\x01\\x00\\x10\\x08\\x84+\\x96\\xaf\\x01\\x00\\x0cI\\x1ez\\xfe\\xc2\\xb9\\xaa\\xaaJb\\xb7\\xa0\\xad[v\\xc9da\\x12I\\x08\\x00`\\xe1\\x82\\x17\\x8e\\x1e=\\\\y\\xb3|\\xdc\\xd8\\x89b\\xb1\\x04\\x00\\xc0\\xe7\\xf3%\\xe2\\x9f\\xb6C\\xef\\xea\\xd2}\\xb2\\xe7s\\xb1H\\x0c\\x00xa\\xc9Kk^Y\\xf6c\\xf9\\xf5\\xe4\\xa4\\x94\\xa2\\xe2\\x93K\\x16\\xaf\\x1c?\\xeeQ\\x00\\x80B\\x1e\\xdd\\xd8X\\xf7\\xe5W\\x9f=\\xff\\xc7\\xe5B\\xa1\\x10f2Ylv\\xcf\\x19\\xfc\\x88\\xff\\xe5\\xab\\xaf\\xaf\\xb1\\xdb\\xedCSR\\x89?Y,\\xd6\\xeb\\x1b7\\xf5\\x94\\xa6\\x0e\\xbb\\x9f\\x1cQ\\x1a\\x12z\\xcb|\\x83\\x08\\x83t \\x8e\\xf7?\\xd8\\xa4\\xaa\\xa96\\x1a\\r\\xc4\\xe4\\x9f^\\xef<\\'s\\xbc2\\x91\\xd0\\x0e\\x000lh:\\x00\\xa0\\xb1\\xb1\\x1e\\x86a\\x14E\\x89?\\t\\x86\\x0c\\x19f\\xb5Z\\x9b\\x9a\\x1a\\x95\\xca\\x04\\xbf_c\\x0f\\xfe\\x97\\xcf`\\xd0\\x03\\x008\\x1c\\xe7\\x99mz\\xefI\\xc5\\xf8\\xff\\x10\\xbe\\xa6\\xa6\\xc6\\xd5//\\xc9\\x189\\xfa/\\xeb\\xde\\x0c\\x93\\r\\xc20l\\xf6\\xdc\\xc9\\xae\\xce/\\x10\\xdcO\\xafH\\x9c\\xcdf\\xb3\\x9a\\xcd&\\x00\\x00\\x9f/\\xe8U\\xc4\\x07\\x00X,\\x81MU\\xe5\\x7f\\xf9$!R\\x00\\x00q=^\\xf2\\xfd\\xb9\"\\x14E_]\\xff6\\xb1~\\xb2\\xbd\\xbd\\xcdMe\\x8b\\xf5\\xfe\\xaeVf\\xb3\\x19\\x00\\xc0\\xe5\\xf2\\x08M{\\xff(\\xf1\\xb9\\xb7\\xd6\\x81\\xc0\\xff]GL\\xf4`.\\x97[^QF\\xfc\\x89a\\xd8\\xca\\x97\\xfex\\xe6\\xcc\\t7\\x878\\x1cv\\x0e\\x87\\xdb\\xb3\\xf6\\xb4\\xf8\\xbb\\x9f\\xf7\\x8f\\xbd\\xe7\\xf2\\xeb\\xebkz\\xd2p\\xdd\\xa9\\xbe\\x05\\x00\\x88\\x8b\\x8b\\x8f\\x8fO\\x82a\\xb8\\xf2fyO\\xb5\\x9b7+\\x84B\\xa1B\\x11\\xf3\\xcb3\\xf8\\x11\\xff\\xcb\\'\\x14\\n\\x1f\\x7fl\\xfa??\\xdb[Tt\\xf2Nu\\xd5{[\\xffV]]\\x95\\x96>\\xd2\\xcd!CS\\xd2\\xba\\xbb\\xbbN\\x9d\\xfeF\\xa3Q\\x17\\x1e;r\\xfb\\xce\\xcd\\x90\\x10iMM\\xb5\\xd1h\\xe4p8\\x1c\\x0e\\xa7\\xbc\\xa2\\xec\\xae\\xea\\x0e\\x82 \\xc4\\x13\\xba\\xf9\\x1fo\\xd4\\xd7\\xd7\\xd6\\xd6\\xaa\\xf6|\\x92\\x1f\\x19\\x115<=C\"\\x96<\\xfe\\xd8\\xf4\\x7f~\\xb6\\xef\\xc2\\x85\\x92\\xf6\\xf6\\xb63gN\\x1c\\xfb\\xe6\\xc8\\xcc\\xa7\\x9ea2\\x99\\x00\\x00\\x91P\\xa4R\\xdd\\xa9\\xab\\xab\\xf1\\xfb\\xc5\\x06d\\xdc\\xb7\\xf8\\xf9\\x95\\x0c\\x08\\xfa\\xe8\\xe3\\xed\\x16\\x8bY\\xa9L|\\xe7\\xed\\xed\\ny\\xb4\\x9b\\xfa99c\\xe6\\xcc\\x9e\\xbf\\xeb\\xe3\\xf7w\\xec|/\\xeb\\xe1G\\xd6\\xaey\\xfd\\xcb\\xaf\\xfey\\xe8\\xf0~\\x08\\x82^\\\\\\xb9\\xf6\\x99\\xb9\\x0b\\x0e\\x7f\\xbe\\xff\\xf2\\xe5\\xf3\\x07\\x0f\\x14\"(\\x92:lxff\\xd6\\xda\\xbf\\xac\\xd0h\\xd4II)o\\xbd\\xf9\\x1e\\xa1\\xd1\\x8a\\xe5k\\xf8|\\xc1\\xb6\\xf7\\xdf\\xed\\xea\\xd2\\x85\\x0f\\x8a\\xf8\\x9fg\\x17\\xcd{f\\x01q\\xfe\\'\\x9f\\x9c\\xfb\\xce\\xbb\\x1b6l\\xfc\\xf3\\x81\\xfdG\\xfd{\\xa5\\x9ec\\\\\\xbe\\xff\\xbcC\\x12\\xceM~h\\xe0\\x07\\x07\\xf5\\xc6\\xd8\\x85\\x14\\xedozn\\x83\\x87T!A\\xf0\\xd2Feh\\xf9HA\\xcbG\\nZ>R\\xd0\\xf2\\x91\\x82\\x96\\x8f\\x14\\xb4|\\xa4\\xa0\\xe5#\\x05-\\x1f)h\\xf9HA\\xcbG\\nZ>R\\xd0\\xf2\\x91\\xc2\\xb3||\\x11\\x0c\\xfd\\xea\\x96u\\x00\\x0c\\xc7C\\xe5\\x9e\\xb7\\x0e\\xf4,\\x9fH\\xca\\xech\\xf0\\xbc@d\\x80\\xa1i\\xb6\\xb2X\\x9e\\x97>z\\x96/&\\x99o\\xd6;\\xfcdU\\xd0\\xa0i\\xb1\\xc5\\xa7{^\\x87\\xe6Y>\\xb1\\x8c\\x95\\xfc\\x90\\xa8\\xe4\\x8bV?\\x19\\x16\\x04\\xfc\\xf8/\\r\\xe2@\\x93\\x1f\\xf2\\xbc\\x85\\x8c\\xb7\\xeby\\xab\\x7f0\\x96\\x9d\\xd5%=$\\x0e\\x93s9\\xfc\\x81\\xd9\\x16b\\x18\\xaen\\xb6jZm\\x88\\x1d\\x9d8/\\xc2\\x9bC|X\\x0e\\xdd\\xd9l\\xbdq^\\xdf\\xadvtk\\x1e\\xd0\\xb3\\x8c\\xa2(\\x86a,\\x96W+\\x93\\xc9#SpX,F|\\xba\\xc0\\x9b\\xfb\\x8e\\x80\\x8a\\xbb\\x08\\xf5@\\'\\xd7\\x1e\\xe0\\xd0\\xf2\\x91\\x82\\xd2\\xf2\\xd1\\xfb\\xf7\\x91\\x82\\xde\\xbf\\x8f\\x14\\xf4\\xb6\\xd7\\xa4\\xa0\\xb7\\xbd&\\x05\\x9d\\xaf\\x83\\x14t\\xbe\\x0eR\\xd0m\\x1f)\\xe8\\xb6o\\x80Ci\\xf9\\xd8l\\xb6T*\\xedo+\\xdcAi\\xf9\\xecv\\xbbN\\xa7\\xebo+\\xdcAi\\xf9\\xa8\\x0f\\xa5\\xe5c0\\x18D\\xdc2e\\xa1\\xb4|8\\x8e\\x13\\xd1\\xf4\\x94\\x85\\xd2\\xf2A\\x10\\xc4fSz\\xf36J\\xcb\\x87a\\x98\\xddn\\xefo+\\xdcAi\\xf9\\xa8\\x0f\\xa5\\xe5c2\\x99Ba`\\x17\\xa5\\x91\\x84\\xd2\\xf2!\\x08\\xd2\\xb3|\\x8d\\x9aPZ>\\xeaCi\\xf9h\\x8f\\x0b)h\\x8f\\xcb\\x00\\x87\\xd2\\xf2\\xd1\\x13\\x95\\xa4\\xa0\\'*\\x078\\x94\\x96\\x8f\\xeeyIA\\xf7\\xbc\\xa4\\xa0S\\xbb\\x93\\x82N\\xed>\\xc0\\xa1\\xb4|t\\x90\\x06)\\xe8 \\rR\\xd0\\xc9\\xb5IA\\'\\xd7&\\x05\\xdd\\xf6\\x91\\x82n\\xfbHA\\xfd\\xb6\\x8f\\x8a\\xcbb\\xe6\\xcf\\x9f\\xcf`0\\x10\\x04\\xe9\\xee\\xee\\xb6\\xd9lr\\xb9\\x1cA\\x10\\xb3\\xd9\\\\XX\\xd8\\xdf\\xa6\\xfd\\x1c*\\x86@\\x84\\x84\\x84\\\\\\xbat\\xa9\\'\\xb96\\xf1\\xda+\\x97\\xcb\\xfb\\xdb.\\'P\\xf1\\xe1]\\xb8p\\xa1H\\xf4\\xf3UeO>\\xf9d?\\x99\\xe3\\x0e*\\xca\\x97\\x91\\x91\\x91\\x91\\x91\\xd1\\xfb\\x1b\\xb9\\\\>g\\xce\\x9c\\xfe\\xb3\\xc8%T\\x94\\x8f\\xc8\\xee\\xde3d\\x81ax\\xc6\\x8c\\x19|>\\xbf\\xbf\\x8dr\\x02E\\xe5\\x1b1bDzz:\\xd1\\xad\\xc5\\xc6\\xc6\\xce\\x9d;\\xb7\\xbf-r\\x0eE\\xe5#\\xfa\\xdf\\xb0\\xb00\\x18\\x86\\xa7L\\x99\"\\x10P4?\\xab\\x9f{^\\xbb\\r\\xb3\\x99P\\xe0\\x8f\\xfc\\xd1\\t\\x83\\xd3F\\xa4f766N\\x99\\xf4\\xb4A\\xe7\\x97(?\\x9c\\xc5\\x86\\xb8\\x02\\x7f.\\x85\\';\\xee\\xb3[\\xb1\\xdaJcm\\x85\\xa9\\xe3\\x9e\\xcdbD\\x01\\x03H#\\xb9&\\x1d\\x15\\xb7\\x8e\\x80\\x98\\x0c\\xbb\\x05E\\x1c\\x18W\\x00G)\\xf9\\xf2x\\x8e2M \\x91\\x91Z\\xaa\\xdew\\xf9t\\xed\\xf6\\xd2b]M\\x851$\\x8a\\xcf\\x0b\\xe1s\\xc5\\x1c\\x16\\x1b\\x86\\x98\\xd4m\\r\\x08p\\x0cG\\xec\\xa8\\xdd\\x8a\\x98\\xd4&C\\xa79\"\\x96\\x9b\\x96#\\x8a\\x1b\\xd6\\xc7\\xc6\\xa1/\\xf2a(^\\xfcYGs\\x8d5<!T\\x18F\\xc5\\x0e\\xd1{\\xacF\\xbb\\xa6N\\xcbb\\xe1c\\x9f\\x0e\\x0b\\x8fq\\xbe\\xcf\\xbe\\x1b|\\x96\\xaf\\xa5\\xcev\\xe6\\xd36i\\xb4$D\\xee\\xed~\\t\\xd4\\xc7\\xa4\\xb3\\x9a\\xd4\\x86\\x844^\\xe6x\\xdf\\x92R\\xf8&_\\xfdMc\\xc9W\\xda\\xb8\\xd1\\n\\xdf-\\x0c\\x02:\\xaa;\\x07\\xc9\\xa1q\\xb3\\xc2\\xbd?\\xc4\\x87\\xa6\\xaa\\xf1\\x8e\\xf9\\xd2\\xa9\\xee\\x81\\xaa\\x1d\\x00 <yPg;\\xb8V\\xec\\xc3B\\x1co\\xe5kk\\xb0\\xfe\\xeb+\\x8d<5\\xb2\\xaf\\xb6\\x05\\x07\\xe1\\t\\xb2F\\x95\\xe3Z\\x91\\xb7NF\\xaf\\xe4s\\xd8\\xd1c;[b2\\xa8\\xe8\\xf3\\xf0;\\xb28\\xd9\\xddrK\\xfd-\\xaf\\x82\\x82\\xbd\\x92\\xef\\xdb\\xbd\\xed\\xf2\\xd4A\\xa4\\r\\x0b\\x1a\"S\\xc2O\\xedk\\xf7\\xa6\\xa6g\\xf9Zj,z\\x1d&\\n\\xf2\\x01\\x8aO@L(<^r\\xf5\\xb4\\xe7Y*\\xcf\\xf2]:\\xa9\\x95\\xc5QzUh \\x90\\xc5I\\x7f<\\xdf\\x8d80\\xf7\\xd5<\\xc8\\xa7i\\xb5\\x19t\\x08?\\xc4\\xe7\\xf1\\xe4\\x83\\xc1d\\xeaz\\xf9\\xb5\\xac\\xf2\\xca\\xb3\\x818\\xb9$\\\\p\\xf3\\x8a\\xde}\\x1d\\x0f\\xf2\\xd5\\xde0\\tB\\x7fE\\x8fmo\\x042\\x81\\xeaG\\x0f\\t\\xab<\\xc8\\xa7*7\\x05\\xfbkY\\x9f\\x11\\xcax\\xed\\xf5\\x16\\x14q\\xf7Z\\xe1\\xcea\\x85c\\xb8I\\x8fD\\x05\\xec\\xc95\\x9at\\xc7Om\\xaf\\xa9/3\\x99\\xbb\\xa2\"\\x92&O\\\\\\x9a\\x18\\x9f\\t\\x00h\\xef\\xa8\\xdb\\xfc\\xc1\\xdc%\\x7f\\xd8q\\xfe\\xf2\\xe1\\xba\\xc6r\\x88\\x01\\x8dH\\xcb\\x9b\\xfe\\xf8K0\\x0c\\x03\\x00._=z\\xf6\\xdf\\x05F\\x93.:*\\xe5\\xb1\\x89K\\x02d\\x1b\\x81T\\xceo\\xad\\xb7D\\'\\xba\\xbc\\x81\\xdc\\xc9g6\\xa0\\xb8\\x87\\xa6\\xb3\\xef`\\x18\\xb6{\\xff\\x8bV\\x9bq\\xceS\\x1b\\xc4B\\xd9\\xa5\\xab_\\xed9\\xf0\\xe2\\xca\\xc5\\xfb\\xa2\"\\x13a\\x98\\t\\x008vj\\xeb\\xccik\\xfe\\x10\\xbb\\xf9n\\xcd\\xb5]\\x05\\xcb\\x94\\x83G\\x8eL\\xcf\\xab\\xad\\xff\\xe1\\xab\\xe3\\x7f\\x1f\\x933/{\\xd4\\x13\\x1a]\\xf3\\xf1S\\xef\\x07\\xca>\\x02\\x06\\xc3\\xdc\\x8d\\xba)w\\xf7\\xf0\\x9a\\xf4\\x08\\x8b\\x1b\\xa8}6\\xef\\xd6\\\\mn\\xbd=k\\xc6_\\x92\\xe2GE\\x84+gL^%\\r\\x89\\xbap\\xe5\\x8b\\x9e\\n#R\\xc7\\xc7\\xc5\\x0e\\x07\\x00$%\\x8c\\x96I\\x15M\\xcdU\\x00\\x80\\xeb?\\x9e\\x12\\teS\\x1e]\\x16>h\\xf0\\xd0\\xe4\\x9c\\xdc\\xdf\\xce\\x0b\\x90y\\x04\\x10\\x136\\xe9\\xddyj\\xdd\\xc9g5\\xa3|i\\xa0bc\\x1b\\x9a*a\\x98\\x95\\xa0|\\xe8\\'; (~\\xf0\\xc8\\xe6\\xd6\\xea\\x9e\\nQ\\x91I=\\x9f\\xb9\\\\\\x91\\xc5j\\x00\\x00\\xb4w\\xd6G+R\\x88\\xa7\\x18\\x00\\x10\\x1b\\x9d\\x1a \\xf3\\x08\\x98\\\\\\x16\\x8a\\xf6\\xb5\\xed\\xe3\\t\\x98f\\xad\\r\\x04&C\\xa6\\xcdfFQ\\xc7\\xda\\xd7\\x7f\\xd7\\xf3\\r\\x86\\xa1\"\\xe1\\xfd\\x90\\x0c\\x16\\xf3\\xbf\\xfes8\\xc0\\x01\\x006\\x9bI,\\xba_\\x87\\xcd\\xe2\\x81@b7;\\x98Lw\\xcb\\xd9\\xdd\\xc9\\xc7\\x17\\xc3v\\xab\\xbb\\'\\x9f\\x0c\\\\\\xae\\x80\\xc9d\\xafZz\\xa0\\xf7\\x97\\x0c\\x86\\x87\\x91\\x00\\x9b\\xcd\\xb3Z\\xef\\xbf\\x8d\\x12\\xb7d\\xe0\\xc0\\x1c(_\\xec\\xae\\xf9r+\\x9f\\x10fs\\x03\\xe5|\\x8fU\\xa4\"\\x88\\x1d\\xc5\\xd0\\xa8\\x88\\x9fno\\xad\\xaeU(\\xf0\\xf0z3H\\x16{[u\\x19\\xc30\\x08\\x82\\x88\\x064@\\xe6\\x11@L\\xc0\\x97\\xb8\\x93\\xcf\\x9d:\\x0c\\x88\\xc1\\x13\\xc2&]@v\\\\O\\x8c\\x1f\\xad\\x88\\x1ar\\xe8\\xcb\\x8d\\xaa\\xba\\xebZ]KY\\xf9\\x99\\xad;\\xe6_\\xba\\xfa\\xa5\\xfb\\xa32FL2\\x1a\\xb5\\xdf\\x9c\\xda\\xd6\\xda\\xae\\xaa\\xb8y\\xae\\xf4\\x07?\\'\\xcb\\xfe\\x19\\x9aF\\x93\"\\xde]\\xfb\\xe0a\\xa22q\\xa4@Ui\\x12H\\xfd?\\xf4\\x83a\\xf8\\x7f\\x7f\\xbf\\xed\\xc4\\xe9\\xf7?=\\xbc\\xcen\\xb7\\x84\\x86\\xc8\\xf3\\xc6.\\xcc}\\xc4CO:$1k\\xfa\\xe3/\\x96\\\\8x\\xf9\\xda\\xd1hy\\xca\\xac\\x19\\xeb\\xb6\\xee\\xfc}\\x80\\x82\\xc4\\x0c\\x9dfE\\x12\\x9f\\xe1v\\xd2\\xd5\\x83\\xb3^\\xd7a?\\x9a\\xdf\\x9a\\x90\\xed.A\\xe7@\\xa5\\xf5\\xb6:=\\x8b\\x9b\\x96\\xe3n\\xf6\\xc3C\\xd3&\\rgKdL\\xa3\\xc6\\xe2\\xbe\\xda\\xc0\\x03\\xc7p\\xed=\\x83{\\xed\\xbc\\x8a2\\x18\\xf3\\x94\\xec\\xdb\\xbd\\x1dB\\x99\\xcb)\\x8eW\\xdf\\x9e\\xe0\\xf4{\\x0cC!\\x06\\xe4*\\xe2`\\xddKG\\x05|\\xbf\\xe5Z\\xff\\xe4\\xe0\\xaa\\xba\\x86r\\xa7E\\x02\\x9e\\xc4dq\\x9e\\xe6\\xfc\\xad\\xf5.]5\\x1d5\\xda\\xdfL\\xf5\\x1c\\xd8\\xea\\xd5L\\xdb\\xc9\\xbdm\\x08\\xc4\\x93D8\\xdf\\x13D\\xabkq\\xfa\\xbd\\xc3a\\x83a\\x16\\xd1E\\xfe\\x92\\x10I\\xa4\\xab\\xa2>\\xa0\\xd7\\xab\\x11\\xd4\\xf9\\x869v\\xbb\\x95\\xcdv\\xdev\\x87J\\x9dO? v\\xb4\\xe1z\\xf3\\xa27\\x94\\x1e\\x7f\\xd7\\xdb\\x89\\xca\\xfc\\xd5\\xaa\\xa1\\xe3\\xe3 \\xc8\\x0f\\xc1+\\xd4\\xa7\\xe1z\\xcb\\xa3\\xcf\\x86E)=\\x8f\\xc9\\xbd\\xfd\\xff\\xcf{%\\xb6\\xfej3i\\xc3\\x82\\x80\\xf6\\xea\\xce\\x8c\\xb1\"o\\xb4\\xf3m\\x9a\\xbc\\xa3\\xc9ZtP\\x1d=\"\\x8a\\x9cy\\x94\\xa6\\xe5V\\xe7\\xc8\\xdf\\xf1\\x87=\\xecm*l\\x1fZ\\x9f\\xf0h\\xee\\xf8\\xd92\\xd5\\xc5F\\x14\\t\\x98\\x1b\\xab_i\\xb9\\xd9\\x1e?\\x94\\xe5\\xbdv}\\x89q1v!\\xc7v\\xb5r$\\x82\\xb0\\xc1~\\xeb7\\xfb\\x1d}\\xbb\\xc9\\xdam\\xca\\x1c\\'J\\x18\\xee\\xdb\\x96Y}\\x0cP+\\xf9R}\\xa7T\\x1f9D&\\x0e\\x170\\x82\\xb9?1\\xe9\\xac\\x9d5Z\\xe9 \\xe6\\xd8\\xa7e\\x920\\x9f\\xf7\\n\\xec{|\\x9f\\xc5\\x88^=\\xad\\xad\\xbc\\xdc-\\t\\xe7\\xf1C\\xf9\\\\\\x11\\x87\\xc5\\x81\\x99l\\x98\\xe2j\"6\\xd4aC\\x1cV\\xd4\\xa86v\\xb7\\x9b\\x95i\\xc2\\x91\\xb9\\x92\\xc8\\xc1}|+\\xf5\\xc3\\xaa\\xa2\\x86*SM\\x85\\xa9\\xad\\xc1f1\"V#*\\x8d\\xe4\\xea\\xb5T\\xdc\\xb3\\x10\\x86\\x1963\\xca\\xe1\\xc3<!\\x1c\\x19\\xc7\\x8dI\\xe2)\\xd3\\x04$]J\\xfe_\\x94e5c\\xfe\\x08m\\x0e\\x048\\x9b\\x03\\xf9\\xf7\\xe1\\xa0\\xe2\\x9a\\xb6 \\x82\\xea\\xa1\\xc8\\x14\\x87\\x96\\x8f\\x14\\xb4|\\xa4\\xa0\\xe5#\\x05-\\x1f)h\\xf9H\\xf1\\x7f6\\xb5\\x04\\xd6\\t\\x99\\xc0;\\x00\\x00\\x00\\x00IEND\\xaeB`\\x82'\n"
     ]
    },
    {
     "data": {
      "image/png": "[encoded data removed]",
      "text/plain": [
       "<IPython.core.display.Image object>"
      ]
     },
     "metadata": {},
     "output_type": "display_data"
    }
   ],
   "source": [
    "from IPython.display import Image, display\n",
    "\n",
    "output = graph.get_graph().draw_mermaid_png()\n",
    "print(\"Output type:\", type(output))\n",
    "print(\"Output value:\", output)\n",
    "display(Image(output))\n"
   ]
  },
  {
   "cell_type": "code",
   "execution_count": 7,
   "metadata": {},
   "outputs": [
    {
     "name": "stdout",
     "output_type": "stream",
     "text": [
      "I apologize, but since the 2024 Summer Olympics have not yet taken place, there is no information available on what happened during the event. The 2024 Summer Olympics are scheduled to take place in Paris, France, from July 26 to August 11, 2024.\n"
     ]
    }
   ],
   "source": [
    "config = {\"configurable\": {\"thread_id\": \"1\"}}\n",
    "\n",
    "\n",
    "print(graph.invoke({\"messages\": [(\"user\", \"what happened in the 2024 olympics?\")]}, config=config)['messages'][1].content)"
   ]
  },
  {
   "cell_type": "code",
   "execution_count": 8,
   "metadata": {},
   "outputs": [
    {
     "name": "stdout",
     "output_type": "stream",
     "text": [
      "I apologize, but since the 2024 Summer Olympics have not yet taken place, there is no information available on what happened during the event. The 2024 Summer Olympics are scheduled to take place in Paris, France, from July 26 to August 11, 2024.\n"
     ]
    }
   ],
   "source": [
    "print(next(memory.list(config)).checkpoint['channel_values']['messages'][-1].content)"
   ]
  },
  {
   "cell_type": "markdown",
   "metadata": {},
   "source": [
    "### Chatbot with LangGraph (With Tools)"
   ]
  },
  {
   "cell_type": "code",
   "execution_count": 9,
   "metadata": {},
   "outputs": [
    {
     "data": {
      "text/plain": [
       "True"
      ]
     },
     "execution_count": 9,
     "metadata": {},
     "output_type": "execute_result"
    }
   ],
   "source": [
    "from typing import Annotated\n",
    "from typing_extensions import TypedDict\n",
    "from langgraph.graph import StateGraph, START, END\n",
    "from langgraph.graph.message import add_messages\n",
    "from langchain_groq import ChatGroq\n",
    "from langgraph.checkpoint.memory import MemorySaver\n",
    "from langgraph.prebuilt import ToolNode, tools_condition\n",
    "from dotenv import load_dotenv\n",
    "\n",
    "load_dotenv()\n"
   ]
  },
  {
   "cell_type": "code",
   "execution_count": 10,
   "metadata": {},
   "outputs": [],
   "source": [
    "# Tools to use\n",
    "from langchain_community.utilities import ArxivAPIWrapper, WikipediaAPIWrapper\n",
    "from langchain_community.tools import ArxivQueryRun, WikipediaQueryRun\n",
    "\n",
    "memory = MemorySaver()"
   ]
  },
  {
   "cell_type": "code",
   "execution_count": 11,
   "metadata": {},
   "outputs": [],
   "source": [
    "class State(TypedDict):\n",
    "    messages: Annotated[list, add_messages]\n",
    "\n",
    "graph_builder = StateGraph(State)\n",
    "\n",
    "llm = ChatGroq(\n",
    "    model=\"llama3-8b-8192\",\n",
    "    temperature=0,\n",
    "    max_tokens=None,\n",
    "    timeout=None,\n",
    "    max_retries=2,\n",
    ")"
   ]
  },
  {
   "cell_type": "code",
   "execution_count": 14,
   "metadata": {},
   "outputs": [],
   "source": [
    "# Instantiating the tools\n",
    "arxiv_wrapper = ArxivAPIWrapper(top_k_results=1, doc_content_chars_max=1000)\n",
    "arxiv_tool = ArxivQueryRun(api_wrapper=arxiv_wrapper)\n",
    "\n",
    "api_wrapper = WikipediaAPIWrapper(top_k_results=1, doc_content_chars_max=1000)\n",
    "wiki_tool = WikipediaQueryRun(api_wrapper=api_wrapper)\n",
    "\n",
    "tools = (arxiv_tool, wiki_tool)\n",
    "\n",
    "llm_with_tools = llm.bind_tools(tools=tools)\n",
    "\n",
    "def chatbot(state: State):\n",
    "    return {\"messages\": [llm_with_tools.invoke(state[\"messages\"])]}\n",
    "\n",
    "graph_builder.add_node(\"chatbot\", chatbot)\n",
    "tool_node = ToolNode(tools=tools )\n",
    "graph_builder.add_node(\"tools\", tool_node)\n",
    "\n",
    "graph_builder.add_conditional_edges(\n",
    "    \"chatbot\",\n",
    "    tools_condition,\n",
    ")\n",
    "graph_builder.add_edge(\"tools\", \"chatbot\")\n",
    "graph_builder.add_edge(START, \"chatbot\")\n",
    "\n",
    "graph= graph_builder.compile()"
   ]
  },
  {
   "cell_type": "code",
   "execution_count": 15,
   "metadata": {},
   "outputs": [
    {
     "data": {
      "image/png": "[encoded data removed]",
      "text/plain": [
       "<IPython.core.display.Image object>"
      ]
     },
     "metadata": {},
     "output_type": "display_data"
    }
   ],
   "source": [
    "from IPython.display import Image, display\n",
    "\n",
    "try:\n",
    "    output = graph.get_graph().draw_mermaid_png()\n",
    "    display(Image(output))\n",
    "except Exception:\n",
    "    pass"
   ]
  },
  {
   "cell_type": "code",
   "execution_count": 16,
   "metadata": {},
   "outputs": [
    {
     "name": "stdout",
     "output_type": "stream",
     "text": [
      "================================\u001b[1m Human Message \u001b[0m=================================\n",
      "\n",
      "what happened in the 2024 olympics?\n",
      "==================================\u001b[1m Ai Message \u001b[0m==================================\n",
      "Tool Calls:\n",
      "  wikipedia (call_t6p8)\n",
      " Call ID: call_t6p8\n",
      "  Args:\n",
      "    query: 2024 Summer Olympics\n",
      "=================================\u001b[1m Tool Message \u001b[0m=================================\n",
      "Name: wikipedia\n",
      "\n",
      "Page: 2024 Summer Olympics\n",
      "Summary: The 2024 Summer Olympics (French: Les Jeux Olympiques d'été de 2024), officially the Games of the XXXIII Olympiad (French: Jeux de la XXXIIIe olympiade de l'ère moderne) and branded as Paris 2024, were an international multi-sport event held from 26 July to 11 August 2024 in France, with several events started from 24 July. Paris was the host city, with events (mainly football) held in 16 additional cities spread across metropolitan France, including the sailing centre in the second-largest city of France, Marseille, on the Mediterranean Sea, as well as one subsite for surfing in Tahiti, French Polynesia.\n",
      "Paris was awarded the Games at the 131st IOC Session in Lima, Peru, on 13 September 2017. After multiple withdrawals that left only Paris and Los Angeles in contention, the International Olympic Committee (IOC) approved a process to concurrently award the 2024 and 2028 Summer Olympics to the two remaining candidate cities; both bids were praised for\n",
      "==================================\u001b[1m Ai Message \u001b[0m==================================\n",
      "Tool Calls:\n",
      "  arxiv (call_ezx4)\n",
      " Call ID: call_ezx4\n",
      "  Args:\n",
      "    query: 2024 Summer Olympics\n",
      "=================================\u001b[1m Tool Message \u001b[0m=================================\n",
      "Name: arxiv\n",
      "\n",
      "Published: 2024-07-31\n",
      "Title: How We Decide the Future of the Olympics ?\n",
      "Authors: Wenlin Luo, Chenghui Li\n",
      "Summary: The \"Olympic Agenda 2020\" stresses the urgency of measuring the impact of the\n",
      "Olympic Games on host cities in the face of declining bids. This paper presents\n",
      "the Hosting the Olympics Influence Evaluation Model (HOIEM) to assess these\n",
      "impacts and propose sustainable solutions.We select indicators (economic,\n",
      "socio-cultural, human, environmental and political) based on literature review\n",
      "and construct HOIEM. We use AHP and TOPSIS-EWM to determine the final weights\n",
      "for these indicators. We identify 45 potential host cities based on IOC\n",
      "requirements. For the Winter Olympics, secondary screening and the GM(1,1)\n",
      "model highlight Calgary, Canada as the top city. For the Summer Olympics, the\n",
      "SWOT analysis identifies Beijing, China. We propose to hold Spring, Summer,\n",
      "Autumn and Winter Olympics every 4 years, with fixed cities for Summer and\n",
      "Winter and bidding for Spring and Autumn.Fina\n",
      "==================================\u001b[1m Ai Message \u001b[0m==================================\n",
      "\n",
      "The 2024 Summer Olympics have not yet taken place, as they are scheduled to occur from July 26 to August 11, 2024. The information provided by the tools is likely outdated or speculative.\n"
     ]
    }
   ],
   "source": [
    "user_input = \"what happened in the 2024 olympics?\"\n",
    "\n",
    "events= graph.stream(\n",
    "    {\"messages\": [(\"user\", user_input)]},stream_mode=\"values\"\n",
    ")\n",
    "\n",
    "for event in events:\n",
    "    event[\"messages\"][-1].pretty_print()"
   ]
  },
  {
   "cell_type": "code",
   "execution_count": null,
   "metadata": {},
   "outputs": [],
   "source": []
  }
 ],
 "metadata": {
  "kernelspec": {
   "display_name": "venv",
   "language": "python",
   "name": "python3"
  },
  "language_info": {
   "codemirror_mode": {
    "name": "ipython",
    "version": 3
   },
   "file_extension": ".py",
   "mimetype": "text/x-python",
   "name": "python",
   "nbconvert_exporter": "python",
   "pygments_lexer": "ipython3",
   "version": "3.10.0"
  }
 },
 "nbformat": 4,
 "nbformat_minor": 2
}
